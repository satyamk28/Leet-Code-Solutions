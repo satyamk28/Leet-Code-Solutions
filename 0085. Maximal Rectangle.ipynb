{
 "cells": [
  {
   "cell_type": "markdown",
   "id": "a09cf849",
   "metadata": {},
   "source": [
    "### Given a rows x cols binary matrix filled with 0's and 1's, find the largest rectangle containing only 1's and return its area.\n",
    "\n",
    "### Example 1:\n",
    "\n",
    "* Input: matrix = [[\"1\",\"0\",\"1\",\"0\",\"0\"],[\"1\",\"0\",\"1\",\"1\",\"1\"],[\"1\",\"1\",\"1\",\"1\",\"1\"],[\"1\",\"0\",\"0\",\"1\",\"0\"]]\n",
    "* Output: 6\n",
    "* Explanation: The maximal rectangle is shown in the above picture.\n",
    "\n",
    "### Example 2:\n",
    "\n",
    "* Input: matrix = [[\"0\"]]\n",
    "* Output: 0\n",
    "\n",
    "### Example 3:\n",
    "\n",
    "* Input: matrix = [[\"1\"]]\n",
    "* Output: 1 \n",
    "\n",
    "### Constraints:\n",
    "\n",
    "* rows == matrix.length\n",
    "* cols == matrix[i].length\n",
    "* 1 <= row, cols <= 200\n",
    "* matrix[i][j] is '0' or '1'."
   ]
  },
  {
   "cell_type": "code",
   "execution_count": 6,
   "id": "f567eee9",
   "metadata": {},
   "outputs": [
    {
     "data": {
      "text/plain": [
       "6"
      ]
     },
     "execution_count": 6,
     "metadata": {},
     "output_type": "execute_result"
    }
   ],
   "source": [
    "class Solution:\n",
    "    def maximalRectangle(self, matrix):\n",
    "        rows, cols = len(matrix), len(matrix[0])\n",
    "        for i in range(rows):\n",
    "            for j in range(cols):\n",
    "                matrix[i][j] = int(matrix[i][j])\n",
    "        maxArea = 0\n",
    "        heights = [0] * cols\n",
    "        for r in range(rows):\n",
    "            for c in range(cols):\n",
    "                if matrix[r][c] == 1:\n",
    "                    heights[c] += 1\n",
    "                else:\n",
    "                    heights[c] = 0\n",
    "            maxArea = max(maxArea, self.largestRectangleArea(heights))\n",
    "        return maxArea\n",
    "\n",
    "\n",
    "\n",
    "    def largestRectangleArea(self, heights):\n",
    "        stack = []\n",
    "        maxArea = 0\n",
    "        for idx, height in enumerate(heights):\n",
    "            start = idx\n",
    "            while stack and stack[-1][1] > height:\n",
    "                i, h = stack.pop()\n",
    "                maxArea = max(maxArea, h * (idx - i))\n",
    "                start = i\n",
    "            stack.append((start, height))\n",
    "        for i, h in stack:\n",
    "            maxArea = max(maxArea, h * (len(heights) - i))\n",
    "        return maxArea\n",
    "sol = Solution()\n",
    "sol.maximalRectangle([[\"1\",\"0\",\"1\",\"0\",\"0\"],[\"1\",\"0\",\"1\",\"1\",\"1\"],[\"1\",\"1\",\"1\",\"1\",\"1\"],[\"1\",\"0\",\"0\",\"1\",\"0\"]])"
   ]
  },
  {
   "cell_type": "code",
   "execution_count": 4,
   "id": "b085e59f",
   "metadata": {},
   "outputs": [
    {
     "name": "stdout",
     "output_type": "stream",
     "text": [
      "6\n",
      "0\n",
      "1\n"
     ]
    }
   ],
   "source": [
    "def maximalRectangle(matrix):\n",
    "    if not matrix:\n",
    "        return 0\n",
    "\n",
    "    rows = len(matrix)\n",
    "    cols = len(matrix[0])\n",
    "\n",
    "    # Convert matrix values from strings to integers\n",
    "    for i in range(rows):\n",
    "        for j in range(cols):\n",
    "            matrix[i][j] = int(matrix[i][j])\n",
    "\n",
    "    # Function to calculate the largest area in a histogram\n",
    "    def largestRectangleArea(heights):\n",
    "        stack = [-1]\n",
    "        max_area = 0\n",
    "        heights.append(0)  # Append 0 at the end to ensure all bars are considered\n",
    "\n",
    "        for i in range(len(heights)):\n",
    "            while heights[i] < heights[stack[-1]]:\n",
    "                h = heights[stack.pop()]\n",
    "                w = i - stack[-1] - 1\n",
    "                max_area = max(max_area, h * w)\n",
    "            stack.append(i)\n",
    "\n",
    "        heights.pop()  # Remove the appended 0\n",
    "        return max_area\n",
    "\n",
    "    max_area = 0\n",
    "    heights = [0] * cols\n",
    "\n",
    "    for i in range(rows):\n",
    "        for j in range(cols):\n",
    "            # Update height if current cell is 1\n",
    "            if matrix[i][j] == 1:\n",
    "                heights[j] += 1\n",
    "            # Reset height to 0 if current cell is 0\n",
    "            else:\n",
    "                heights[j] = 0\n",
    "\n",
    "        max_area = max(max_area, largestRectangleArea(heights))\n",
    "\n",
    "    return max_area\n",
    "\n",
    "# Test cases\n",
    "matrix1 = [[\"1\",\"0\",\"1\",\"0\",\"0\"],[\"1\",\"0\",\"1\",\"1\",\"1\"],[\"1\",\"1\",\"1\",\"1\",\"1\"],[\"1\",\"0\",\"0\",\"1\",\"0\"]]\n",
    "print(maximalRectangle(matrix1))  # Output: 6\n",
    "\n",
    "matrix2 = [[\"0\"]]\n",
    "print(maximalRectangle(matrix2))  # Output: 0\n",
    "\n",
    "matrix3 = [[\"1\"]]\n",
    "print(maximalRectangle(matrix3))  # Output: 1\n"
   ]
  }
 ],
 "metadata": {
  "kernelspec": {
   "display_name": "Python 3 (ipykernel)",
   "language": "python",
   "name": "python3"
  },
  "language_info": {
   "codemirror_mode": {
    "name": "ipython",
    "version": 3
   },
   "file_extension": ".py",
   "mimetype": "text/x-python",
   "name": "python",
   "nbconvert_exporter": "python",
   "pygments_lexer": "ipython3",
   "version": "3.9.12"
  }
 },
 "nbformat": 4,
 "nbformat_minor": 5
}
