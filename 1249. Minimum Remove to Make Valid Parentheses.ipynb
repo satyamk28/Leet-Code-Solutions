{
 "cells": [
  {
   "cell_type": "markdown",
   "id": "9752a267",
   "metadata": {},
   "source": [
    "### Given a string s of '(' , ')' and lowercase English characters.\n",
    "\n",
    "### Your task is to remove the minimum number of parentheses ( '(' or ')', in any positions ) so that the resulting parentheses string is valid and return any valid string.\n",
    "\n",
    "### Formally, a parentheses string is valid if and only if:\n",
    "\n",
    "* It is the empty string, contains only lowercase characters, or\n",
    "* It can be written as AB (A concatenated with B), where A and B are valid strings, or\n",
    "* It can be written as (A), where A is a valid string.\n",
    " \n",
    "### Example 1:\n",
    "\n",
    "* Input: s = \"lee(t(c)o)de)\"\n",
    "* Output: \"lee(t(c)o)de\"\n",
    "* Explanation: \"lee(t(co)de)\" , \"lee(t(c)ode)\" would also be accepted.\n",
    "\n",
    "### Example 2:\n",
    "\n",
    "* Input: s = \"a)b(c)d\"\n",
    "* Output: \"ab(c)d\"\n",
    "\n",
    "### Example 3:\n",
    "\n",
    "* Input: s = \"))((\"\n",
    "* Output: \"\"\n",
    "* Explanation: An empty string is also valid.\n",
    " \n",
    "\n",
    "### Constraints:\n",
    "\n",
    "* 1 <= s.length <= 105\n",
    "* s[i] is either'(' , ')', or lowercase English letter."
   ]
  },
  {
   "cell_type": "code",
   "execution_count": 1,
   "id": "22eb1aca",
   "metadata": {},
   "outputs": [
    {
     "data": {
      "text/plain": [
       "'leet'"
      ]
     },
     "execution_count": 1,
     "metadata": {},
     "output_type": "execute_result"
    }
   ],
   "source": [
    "class Solution:\n",
    "    def minRemoveToMakeValid(self, s: str) -> str:\n",
    "        stack = []\n",
    "        extra = []\n",
    "        for i, val in enumerate(s):\n",
    "            if val in ['(', ')']:\n",
    "                if val == ')':\n",
    "                    if stack:\n",
    "                        stack.pop()\n",
    "                    else:\n",
    "                        extra.append(i)\n",
    "                elif val == '(':\n",
    "                    stack.append(i)\n",
    "        for i in stack:\n",
    "            extra.append(i)      \n",
    "        res = ''\n",
    "        for i in range(len(s)):\n",
    "            if i not in extra:\n",
    "                res += s[i]\n",
    "        return res\n",
    "    \n",
    "sol = Solution()\n",
    "sol.minRemoveToMakeValid(')leet(')"
   ]
  }
 ],
 "metadata": {
  "kernelspec": {
   "display_name": "Python 3 (ipykernel)",
   "language": "python",
   "name": "python3"
  },
  "language_info": {
   "codemirror_mode": {
    "name": "ipython",
    "version": 3
   },
   "file_extension": ".py",
   "mimetype": "text/x-python",
   "name": "python",
   "nbconvert_exporter": "python",
   "pygments_lexer": "ipython3",
   "version": "3.9.12"
  }
 },
 "nbformat": 4,
 "nbformat_minor": 5
}
