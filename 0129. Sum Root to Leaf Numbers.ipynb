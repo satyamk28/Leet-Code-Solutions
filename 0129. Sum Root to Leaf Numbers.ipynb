{
 "cells": [
  {
   "cell_type": "markdown",
   "id": "b5559a93",
   "metadata": {},
   "source": [
    "### You are given the root of a binary tree containing digits from 0 to 9 only.\n",
    "\n",
    "### Each root-to-leaf path in the tree represents a number.\n",
    "\n",
    "### For example, the root-to-leaf path 1 -> 2 -> 3 represents the number 123.\n",
    "Return the total sum of all root-to-leaf numbers. Test cases are generated so that the answer will fit in a 32-bit integer.\n",
    "\n",
    "### A leaf node is a node with no children.\n",
    "\n",
    "### Example 1:\n",
    "\n",
    "\n",
    "* Input: root = [1,2,3]\n",
    "* Output: 25\n",
    "* Explanation:\n",
    "    - The root-to-leaf path 1->2 represents the number 12.\n",
    "    - The root-to-leaf path 1->3 represents the number 13.\n",
    "    - Therefore, sum = 12 + 13 = 25.\n",
    "\n",
    "### Example 2:\n",
    "\n",
    "* Input: root = [4,9,0,5,1]\n",
    "* Output: 1026\n",
    "* Explanation:\n",
    "    - The root-to-leaf path 4->9->5 represents the number 495.\n",
    "    - The root-to-leaf path 4->9->1 represents the number 491.\n",
    "    - The root-to-leaf path 4->0 represents the number 40.\n",
    "    - Therefore, sum = 495 + 491 + 40 = 1026.\n",
    " \n",
    "### Constraints:\n",
    "\n",
    "* The number of nodes in the tree is in the range [1, 1000].\n",
    "* 0 <= Node.val <= 9\n",
    "* The depth of the tree will not exceed 10."
   ]
  },
  {
   "cell_type": "code",
   "execution_count": 1,
   "id": "b00c52ba",
   "metadata": {},
   "outputs": [],
   "source": [
    "class TreeNode:\n",
    "    def __init__(self, val=0, left=None, right=None):\n",
    "        self.val = val\n",
    "        self.left = left\n",
    "        self.right = right"
   ]
  },
  {
   "cell_type": "code",
   "execution_count": 2,
   "id": "576ee9e8",
   "metadata": {},
   "outputs": [],
   "source": [
    "def build_tree_from_list(nodes):\n",
    "    if not nodes:\n",
    "        return None\n",
    "    \n",
    "    root = TreeNode(nodes[0])\n",
    "    queue = [root]\n",
    "    i = 1\n",
    "    \n",
    "    while i < len(nodes):\n",
    "        current = queue.pop(0)\n",
    "        \n",
    "        if nodes[i] is not None:\n",
    "            current.left = TreeNode(nodes[i])\n",
    "            queue.append(current.left)\n",
    "        i += 1\n",
    "        \n",
    "        if i < len(nodes) and nodes[i] is not None:\n",
    "            current.right = TreeNode(nodes[i])\n",
    "            queue.append(current.right)\n",
    "        i += 1\n",
    "    \n",
    "    return root"
   ]
  },
  {
   "cell_type": "code",
   "execution_count": 12,
   "id": "5fd0dc88",
   "metadata": {},
   "outputs": [
    {
     "name": "stdout",
     "output_type": "stream",
     "text": [
      "1\n",
      "2\n",
      "12\n",
      "3\n",
      "13\n"
     ]
    },
    {
     "data": {
      "text/plain": [
       "25"
      ]
     },
     "execution_count": 12,
     "metadata": {},
     "output_type": "execute_result"
    }
   ],
   "source": [
    "class Solution:\n",
    "    def sumNumbers(self, root):\n",
    "        def dfs(node, leafSum):\n",
    "            if not node:\n",
    "                return 0\n",
    "            leafSum = leafSum * 10 + node.val\n",
    "            if not node.left and not node.right:\n",
    "                return leafSum\n",
    "            return dfs(node.left, leafSum) + dfs(node.right, leafSum)\n",
    "        return dfs(root, 0)\n",
    "        \n",
    "root_values = [1, 2, 3]\n",
    "root = build_tree_from_list(root_values)\n",
    "solution = Solution()\n",
    "solution.sumNumbers(root)"
   ]
  }
 ],
 "metadata": {
  "kernelspec": {
   "display_name": "Python 3 (ipykernel)",
   "language": "python",
   "name": "python3"
  },
  "language_info": {
   "codemirror_mode": {
    "name": "ipython",
    "version": 3
   },
   "file_extension": ".py",
   "mimetype": "text/x-python",
   "name": "python",
   "nbconvert_exporter": "python",
   "pygments_lexer": "ipython3",
   "version": "3.9.12"
  }
 },
 "nbformat": 4,
 "nbformat_minor": 5
}
