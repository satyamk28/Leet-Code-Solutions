{
 "cells": [
  {
   "cell_type": "markdown",
   "id": "05b45c13",
   "metadata": {},
   "source": [
    "## Given the root of a binary tree, return the inorder traversal of its nodes' values.\n",
    "\n",
    "### Example 1:\n",
    "\n",
    "\n",
    "* Input: root = [1,null,2,3]\n",
    "* Output: [1,3,2]\n",
    "\n",
    "### Example 2:\n",
    "\n",
    "* Input: root = []\n",
    "* Output: []\n",
    "\n",
    "### Example 3:\n",
    "\n",
    "* Input: root = [1]\n",
    "* Output: [1]\n",
    " \n",
    "### Constraints:\n",
    "\n",
    "* The number of nodes in the tree is in the range [0, 100].\n",
    "* -100 <= Node.val <= 100"
   ]
  },
  {
   "cell_type": "code",
   "execution_count": 2,
   "id": "842d8535",
   "metadata": {},
   "outputs": [],
   "source": [
    "class TreeNode:\n",
    "    def __init__(self, val=0, left=None, right=None):\n",
    "        self.val = val\n",
    "        self.left = left\n",
    "        self.right = right"
   ]
  },
  {
   "cell_type": "code",
   "execution_count": 3,
   "id": "0a0478a1",
   "metadata": {},
   "outputs": [],
   "source": [
    "def build_tree_from_list(nodes):\n",
    "    if not nodes:\n",
    "        return None\n",
    "    \n",
    "    root = TreeNode(nodes[0])\n",
    "    queue = [root]\n",
    "    i = 1\n",
    "    \n",
    "    while i < len(nodes):\n",
    "        current = queue.pop(0)\n",
    "        \n",
    "        if nodes[i] is not None:\n",
    "            current.left = TreeNode(nodes[i])\n",
    "            queue.append(current.left)\n",
    "        i += 1\n",
    "        \n",
    "        if i < len(nodes) and nodes[i] is not None:\n",
    "            current.right = TreeNode(nodes[i])\n",
    "            queue.append(current.right)\n",
    "        i += 1\n",
    "    \n",
    "    return root"
   ]
  },
  {
   "cell_type": "markdown",
   "id": "9fd8cc42",
   "metadata": {},
   "source": [
    "#### Recurrsive Method"
   ]
  },
  {
   "cell_type": "code",
   "execution_count": 4,
   "id": "11752b0f",
   "metadata": {},
   "outputs": [
    {
     "data": {
      "text/plain": [
       "[1, 3, 2]"
      ]
     },
     "execution_count": 4,
     "metadata": {},
     "output_type": "execute_result"
    }
   ],
   "source": [
    "class Solution:\n",
    "    def inorderTraversal(self, root):\n",
    "        self.child = []\n",
    "        self.inorder(root)\n",
    "        return self.child\n",
    "        \n",
    "        \n",
    "    def inorder(self, root):\n",
    "        if not root:\n",
    "            return\n",
    "        self.inorder(root.left)\n",
    "        self.child.append(root.val)\n",
    "        self.inorder(root.right)\n",
    "    \n",
    "root_values = [1, None, 2,3]\n",
    "root = build_tree_from_list(root_values)\n",
    "\n",
    "solution = Solution()\n",
    "solution.inorderTraversal(root)"
   ]
  },
  {
   "cell_type": "markdown",
   "id": "a555bcdd",
   "metadata": {},
   "source": [
    "#### Iterative Method"
   ]
  },
  {
   "cell_type": "code",
   "execution_count": 8,
   "id": "b1affe58",
   "metadata": {},
   "outputs": [
    {
     "data": {
      "text/plain": [
       "[1, 3, 2]"
      ]
     },
     "execution_count": 8,
     "metadata": {},
     "output_type": "execute_result"
    }
   ],
   "source": [
    "class Solution:\n",
    "    def inorderTraversal(self, root):\n",
    "        stack = []\n",
    "        curr = root\n",
    "        res = []\n",
    "        while stack or curr:\n",
    "            while curr:\n",
    "                stack.append(curr)\n",
    "                curr = curr.left\n",
    "            curr = stack.pop()\n",
    "            res.append(curr.val)\n",
    "            curr = curr.right\n",
    "        return res\n",
    "    \n",
    "root_values = [1, None, 2, 3]\n",
    "root = build_tree_from_list(root_values)\n",
    "\n",
    "solution = Solution()\n",
    "solution.inorderTraversal(root)"
   ]
  },
  {
   "cell_type": "code",
   "execution_count": null,
   "id": "12f434c5",
   "metadata": {},
   "outputs": [],
   "source": []
  }
 ],
 "metadata": {
  "kernelspec": {
   "display_name": "Python 3 (ipykernel)",
   "language": "python",
   "name": "python3"
  },
  "language_info": {
   "codemirror_mode": {
    "name": "ipython",
    "version": 3
   },
   "file_extension": ".py",
   "mimetype": "text/x-python",
   "name": "python",
   "nbconvert_exporter": "python",
   "pygments_lexer": "ipython3",
   "version": "3.9.12"
  }
 },
 "nbformat": 4,
 "nbformat_minor": 5
}
