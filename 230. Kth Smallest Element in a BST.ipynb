{
 "cells": [
  {
   "cell_type": "markdown",
   "id": "9251b806",
   "metadata": {},
   "source": [
    "## Given the root of a binary search tree, and an integer k, return the kth smallest value (1-indexed) of all the values of the nodes in the tree.\n",
    "\n",
    "### Example 1:\n",
    "\n",
    "* Input: root = [3,1,4,null,2], k = 1\n",
    "* Output: 1\n",
    "\n",
    "### Example 2:\n",
    "* Input: root = [5,3,6,2,4,null,null,1], k = 3\n",
    "* Output: 3\n",
    "\n",
    "### Constraints:\n",
    "\n",
    "* The number of nodes in the tree is n.\n",
    "* 1 <= k <= n <= 104\n",
    "* 0 <= Node.val <= 104\n",
    " \n",
    "\n",
    "### Follow up: If the BST is modified often (i.e., we can do insert and delete operations) and you need to find the kth smallest frequently, how would you optimize?"
   ]
  },
  {
   "cell_type": "code",
   "execution_count": 2,
   "id": "b00c52ba",
   "metadata": {},
   "outputs": [],
   "source": [
    "class TreeNode:\n",
    "    def __init__(self, val=0, left=None, right=None):\n",
    "        self.val = val\n",
    "        self.left = left\n",
    "        self.right = right"
   ]
  },
  {
   "cell_type": "code",
   "execution_count": 3,
   "id": "576ee9e8",
   "metadata": {},
   "outputs": [],
   "source": [
    "def build_tree_from_list(nodes):\n",
    "    if not nodes:\n",
    "        return None\n",
    "    \n",
    "    root = TreeNode(nodes[0])\n",
    "    queue = [root]\n",
    "    i = 1\n",
    "    \n",
    "    while i < len(nodes):\n",
    "        current = queue.pop(0)\n",
    "        \n",
    "        if nodes[i] is not None:\n",
    "            current.left = TreeNode(nodes[i])\n",
    "            queue.append(current.left)\n",
    "        i += 1\n",
    "        \n",
    "        if i < len(nodes) and nodes[i] is not None:\n",
    "            current.right = TreeNode(nodes[i])\n",
    "            queue.append(current.right)\n",
    "        i += 1\n",
    "    \n",
    "    return root"
   ]
  },
  {
   "cell_type": "code",
   "execution_count": 6,
   "id": "7d0f193c",
   "metadata": {},
   "outputs": [
    {
     "data": {
      "text/plain": [
       "1"
      ]
     },
     "execution_count": 6,
     "metadata": {},
     "output_type": "execute_result"
    }
   ],
   "source": [
    "class Solution:\n",
    "    def kthSmallest(self, root, k):\n",
    "        stack = []\n",
    "        curr = root\n",
    "        \n",
    "        while stack or curr:\n",
    "            while curr:\n",
    "                stack.append(curr)\n",
    "                curr = curr.left\n",
    "            curr = stack.pop()\n",
    "            k -= 1\n",
    "            if k == 0:\n",
    "                return curr.val\n",
    "            curr = curr.right\n",
    "        \n",
    "root_values =  [3,1,4,None,2]\n",
    "root = build_tree_from_list(root_values)\n",
    "solution = Solution()\n",
    "solution.kthSmallest(root, 1)"
   ]
  },
  {
   "cell_type": "code",
   "execution_count": null,
   "id": "2512f037",
   "metadata": {},
   "outputs": [],
   "source": []
  }
 ],
 "metadata": {
  "kernelspec": {
   "display_name": "Python 3 (ipykernel)",
   "language": "python",
   "name": "python3"
  },
  "language_info": {
   "codemirror_mode": {
    "name": "ipython",
    "version": 3
   },
   "file_extension": ".py",
   "mimetype": "text/x-python",
   "name": "python",
   "nbconvert_exporter": "python",
   "pygments_lexer": "ipython3",
   "version": "3.9.12"
  }
 },
 "nbformat": 4,
 "nbformat_minor": 5
}
