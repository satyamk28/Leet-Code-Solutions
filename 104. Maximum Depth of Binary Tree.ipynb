{
 "cells": [
  {
   "cell_type": "markdown",
   "id": "d4e8d7c5",
   "metadata": {},
   "source": [
    "Given the root of a binary tree, return its maximum depth.\n",
    "\n",
    "A binary tree's maximum depth is the number of nodes along the longest path from the root node down to the farthest leaf node.\n",
    "\n",
    "Example 1:\n",
    "\n",
    "Input: root = [3,9,20,null,null,15,7]\n",
    "Output: 3\n",
    "\n",
    "Example 2:\n",
    "\n",
    "Input: root = [1,null,2]\n",
    "Output: 2"
   ]
  },
  {
   "cell_type": "code",
   "execution_count": 1,
   "id": "b00c52ba",
   "metadata": {},
   "outputs": [],
   "source": [
    "class TreeNode:\n",
    "    def __init__(self, val=0, left=None, right=None):\n",
    "        self.val = val\n",
    "        self.left = left\n",
    "        self.right = right"
   ]
  },
  {
   "cell_type": "code",
   "execution_count": 2,
   "id": "576ee9e8",
   "metadata": {},
   "outputs": [],
   "source": [
    "def build_tree_from_list(nodes):\n",
    "    if not nodes:\n",
    "        return None\n",
    "    \n",
    "    root = TreeNode(nodes[0])\n",
    "    queue = [root]\n",
    "    i = 1\n",
    "    \n",
    "    while i < len(nodes):\n",
    "        current = queue.pop(0)\n",
    "        \n",
    "        if nodes[i] is not None:\n",
    "            current.left = TreeNode(nodes[i])\n",
    "            queue.append(current.left)\n",
    "        i += 1\n",
    "        \n",
    "        if i < len(nodes) and nodes[i] is not None:\n",
    "            current.right = TreeNode(nodes[i])\n",
    "            queue.append(current.right)\n",
    "        i += 1\n",
    "    \n",
    "    return root"
   ]
  },
  {
   "cell_type": "markdown",
   "id": "a74a3364",
   "metadata": {},
   "source": [
    "### Recussion"
   ]
  },
  {
   "cell_type": "code",
   "execution_count": 6,
   "id": "4001e82a",
   "metadata": {},
   "outputs": [
    {
     "data": {
      "text/plain": [
       "3"
      ]
     },
     "execution_count": 6,
     "metadata": {},
     "output_type": "execute_result"
    }
   ],
   "source": [
    "class Solution:\n",
    "    def maxDepth(self, root):\n",
    "        if not root:\n",
    "            return 0\n",
    "        \n",
    "        return 1 + max(self.maxDepth(root.right), self.maxDepth(root.left))\n",
    "    \n",
    "root_values = [3, 9, 20, None, None, 15, 7]\n",
    "root = build_tree_from_list(root_values)\n",
    "\n",
    "solution = Solution()\n",
    "solution.maxDepth(root)"
   ]
  },
  {
   "cell_type": "markdown",
   "id": "15e64d0f",
   "metadata": {},
   "source": [
    "### DFS"
   ]
  },
  {
   "cell_type": "code",
   "execution_count": 8,
   "id": "0d388905",
   "metadata": {},
   "outputs": [
    {
     "data": {
      "text/plain": [
       "3"
      ]
     },
     "execution_count": 8,
     "metadata": {},
     "output_type": "execute_result"
    }
   ],
   "source": [
    "from collections import deque\n",
    "class Solution:\n",
    "    def maxDepth(self, root):\n",
    "        level = 0\n",
    "        q = deque([root])\n",
    "        while q:\n",
    "            for i in range(len(q)):\n",
    "                node = q.popleft()\n",
    "                if node.left:\n",
    "                    q.append(node.left)\n",
    "                if node.right:\n",
    "                    q.append(node.right)\n",
    "            level += 1\n",
    "        return level\n",
    "  \n",
    "root_values = [3, 9, 20, None, None, 15, 7]\n",
    "root = build_tree_from_list(root_values)\n",
    "\n",
    "solution = Solution()\n",
    "solution.maxDepth(root)\n",
    "    "
   ]
  },
  {
   "cell_type": "code",
   "execution_count": 9,
   "id": "dbb301aa",
   "metadata": {},
   "outputs": [
    {
     "name": "stdout",
     "output_type": "stream",
     "text": [
      "Counter({1: 3, 2: 2, 3: 1, 4: 1, 5: 1})\n"
     ]
    }
   ],
   "source": [
    "from collections import Counter\n",
    "\n",
    "print(Counter([1, 2, 1, 1, 3, 2, 4, 5]))"
   ]
  },
  {
   "cell_type": "code",
   "execution_count": 27,
   "id": "d8e7f904",
   "metadata": {},
   "outputs": [],
   "source": [
    "a = [1, 2, 1, 1, 3, 2, 4, 5]\n",
    "\n",
    "for i in range(0, len)"
   ]
  },
  {
   "cell_type": "code",
   "execution_count": null,
   "id": "65afaa8f",
   "metadata": {},
   "outputs": [],
   "source": []
  }
 ],
 "metadata": {
  "kernelspec": {
   "display_name": "Python 3 (ipykernel)",
   "language": "python",
   "name": "python3"
  },
  "language_info": {
   "codemirror_mode": {
    "name": "ipython",
    "version": 3
   },
   "file_extension": ".py",
   "mimetype": "text/x-python",
   "name": "python",
   "nbconvert_exporter": "python",
   "pygments_lexer": "ipython3",
   "version": "3.9.12"
  }
 },
 "nbformat": 4,
 "nbformat_minor": 5
}
