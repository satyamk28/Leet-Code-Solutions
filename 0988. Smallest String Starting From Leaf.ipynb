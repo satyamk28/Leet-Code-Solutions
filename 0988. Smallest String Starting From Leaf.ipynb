{
 "cells": [
  {
   "cell_type": "markdown",
   "id": "493a15b3",
   "metadata": {},
   "source": [
    "### You are given the root of a binary tree where each node has a value in the range [0, 25] representing the letters 'a' to 'z'.\n",
    "\n",
    "### Return the lexicographically smallest string that starts at a leaf of this tree and ends at the root.\n",
    "\n",
    "### As a reminder, any shorter prefix of a string is lexicographically smaller.\n",
    "\n",
    "* For example, \"ab\" is lexicographically smaller than \"aba\".\n",
    "\n",
    "###A leaf of a node is a node that has no children.\n",
    "\n",
    "### Example 1:\n",
    "\n",
    "* Input: root = [0,1,2,3,4,3,4]\n",
    "* Output: \"dba\"\n",
    "\n",
    "### Example 2:\n",
    "\n",
    "* Input: root = [25,1,3,1,3,0,2]\n",
    "* Output: \"adz\"\n",
    "\n",
    "### Example 3:\n",
    "\n",
    "* Input: root = [2,2,1,null,1,0,null,0]\n",
    "* Output: \"abc\"\n",
    " \n",
    "### Constraints:\n",
    "\n",
    "* The number of nodes in the tree is in the range [1, 8500].\n",
    "* 0 <= Node.val <= 25"
   ]
  },
  {
   "cell_type": "code",
   "execution_count": 2,
   "id": "b00c52ba",
   "metadata": {},
   "outputs": [],
   "source": [
    "class TreeNode:\n",
    "    def __init__(self, val=0, left=None, right=None):\n",
    "        self.val = val\n",
    "        self.left = left\n",
    "        self.right = right"
   ]
  },
  {
   "cell_type": "code",
   "execution_count": 3,
   "id": "576ee9e8",
   "metadata": {},
   "outputs": [],
   "source": [
    "def build_tree_from_list(nodes):\n",
    "    if not nodes:\n",
    "        return None\n",
    "    \n",
    "    root = TreeNode(nodes[0])\n",
    "    queue = [root]\n",
    "    i = 1\n",
    "    \n",
    "    while i < len(nodes):\n",
    "        current = queue.pop(0)\n",
    "        \n",
    "        if nodes[i] is not None:\n",
    "            current.left = TreeNode(nodes[i])\n",
    "            queue.append(current.left)\n",
    "        i += 1\n",
    "        \n",
    "        if i < len(nodes) and nodes[i] is not None:\n",
    "            current.right = TreeNode(nodes[i])\n",
    "            queue.append(current.right)\n",
    "        i += 1\n",
    "    \n",
    "    return root"
   ]
  },
  {
   "cell_type": "code",
   "execution_count": 10,
   "id": "7d0f193c",
   "metadata": {},
   "outputs": [
    {
     "data": {
      "text/plain": [
       "'dba'"
      ]
     },
     "execution_count": 10,
     "metadata": {},
     "output_type": "execute_result"
    }
   ],
   "source": [
    "from collections import deque\n",
    "class Solution:\n",
    "    def smallestFromLeaf(self, root):\n",
    "        def dfs(node, string):\n",
    "            if not node:\n",
    "                return\n",
    "            string = chr(ord('a') + node.val) + string\n",
    "            if node.left and node.right:\n",
    "                return min(dfs(node.left, string), dfs(node.right, string))\n",
    "            if node.left:\n",
    "                return dfs(node.left, string)\n",
    "            if node.right:\n",
    "                return dfs(node.right, string)\n",
    "            return string\n",
    "        \n",
    "        return dfs(root, '')\n",
    "root_values = [0,1,2,3,4,3,4]\n",
    "root = build_tree_from_list(root_values)\n",
    "solution = Solution()\n",
    "solution.smallestFromLeaf(root)"
   ]
  },
  {
   "cell_type": "code",
   "execution_count": 8,
   "id": "ca926d18",
   "metadata": {},
   "outputs": [
    {
     "data": {
      "text/plain": [
       "'c'"
      ]
     },
     "execution_count": 8,
     "metadata": {},
     "output_type": "execute_result"
    }
   ],
   "source": [
    "chr(ord('a') + 2)"
   ]
  }
 ],
 "metadata": {
  "kernelspec": {
   "display_name": "Python 3 (ipykernel)",
   "language": "python",
   "name": "python3"
  },
  "language_info": {
   "codemirror_mode": {
    "name": "ipython",
    "version": 3
   },
   "file_extension": ".py",
   "mimetype": "text/x-python",
   "name": "python",
   "nbconvert_exporter": "python",
   "pygments_lexer": "ipython3",
   "version": "3.9.12"
  }
 },
 "nbformat": 4,
 "nbformat_minor": 5
}
