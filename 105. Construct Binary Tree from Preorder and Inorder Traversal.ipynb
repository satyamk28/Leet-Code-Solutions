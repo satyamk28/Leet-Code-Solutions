{
 "cells": [
  {
   "cell_type": "markdown",
   "id": "4cce4bfe",
   "metadata": {},
   "source": [
    "### Given two integer arrays preorder and inorder where preorder is the preorder traversal of a binary tree and inorder is the inorder traversal of the same tree, construct and return the binary tree.\n",
    "\n",
    "### Example 1:\n",
    "\n",
    "* Input: preorder = [3,9,20,15,7], inorder = [9,3,15,20,7]\n",
    "* Output: [3,9,20,null,null,15,7]\n",
    "\n",
    "### Example 2:\n",
    "\n",
    "* Input: preorder = [-1], inorder = [-1]\n",
    "* Output: [-1]\n",
    " \n",
    "### Constraints:\n",
    "\n",
    "* 1 <= preorder.length <= 3000\n",
    "* inorder.length == preorder.length\n",
    "* -3000 <= preorder[i], inorder[i] <= 3000\n",
    "* preorder and inorder consist of unique values.\n",
    "* Each value of inorder also appears in preorder.\n",
    "* preorder is guaranteed to be the preorder traversal of the tree.\n",
    "* inorder is guaranteed to be the inorder traversal of the tree."
   ]
  },
  {
   "cell_type": "code",
   "execution_count": 1,
   "id": "842d8535",
   "metadata": {},
   "outputs": [],
   "source": [
    "class TreeNode:\n",
    "    def __init__(self, val=0, left=None, right=None):\n",
    "        self.val = val\n",
    "        self.left = left\n",
    "        self.right = right"
   ]
  },
  {
   "cell_type": "code",
   "execution_count": 2,
   "id": "0a0478a1",
   "metadata": {},
   "outputs": [],
   "source": [
    "def build_tree_from_list(nodes):\n",
    "    if not nodes:\n",
    "        return None\n",
    "    \n",
    "    root = TreeNode(nodes[0])\n",
    "    queue = [root]\n",
    "    i = 1\n",
    "    \n",
    "    while i < len(nodes):\n",
    "        current = queue.pop(0)\n",
    "        \n",
    "        if nodes[i] is not None:\n",
    "            current.left = TreeNode(nodes[i])\n",
    "            queue.append(current.left)\n",
    "        i += 1\n",
    "        \n",
    "        if i < len(nodes) and nodes[i] is not None:\n",
    "            current.right = TreeNode(nodes[i])\n",
    "            queue.append(current.right)\n",
    "        i += 1\n",
    "    \n",
    "    return root"
   ]
  },
  {
   "cell_type": "code",
   "execution_count": 7,
   "id": "6117cc27",
   "metadata": {},
   "outputs": [
    {
     "data": {
      "text/plain": [
       "<__main__.TreeNode at 0x7fc2e0f33880>"
      ]
     },
     "execution_count": 7,
     "metadata": {},
     "output_type": "execute_result"
    }
   ],
   "source": [
    "class Solution:\n",
    "    def buildTree(self, preorder, inorder):\n",
    "        if not preorder or not inorder:\n",
    "            return []\n",
    "        root = TreeNode(preorder[0])\n",
    "        root_id = inorder.index(preorder[0])\n",
    "        root.left = self.buildTree(preorder[1: root_id + 1], inorder[:root_id])\n",
    "        root.right = self.buildTree(preorder[root_id + 1:], inorder[root_id + 1:])\n",
    "        return root\n",
    "\n",
    "solution = Solution()\n",
    "solution.buildTree([3,9,20,15,7], [9,3,15,20,7])"
   ]
  }
 ],
 "metadata": {
  "kernelspec": {
   "display_name": "Python 3 (ipykernel)",
   "language": "python",
   "name": "python3"
  },
  "language_info": {
   "codemirror_mode": {
    "name": "ipython",
    "version": 3
   },
   "file_extension": ".py",
   "mimetype": "text/x-python",
   "name": "python",
   "nbconvert_exporter": "python",
   "pygments_lexer": "ipython3",
   "version": "3.9.12"
  }
 },
 "nbformat": 4,
 "nbformat_minor": 5
}
