{
 "cells": [
  {
   "cell_type": "markdown",
   "id": "133d8ff3",
   "metadata": {},
   "source": [
    "### Given the root of a binary tree, return the sum of all left leaves.\n",
    "\n",
    "### A leaf is a node with no children. A left leaf is a leaf that is the left child of another node.\n",
    "\n",
    "### Example 1:\n",
    "\n",
    "* Input: root = [3,9,20,null,null,15,7]\n",
    "* Output: 24\n",
    "* Explanation: There are two left leaves in the binary tree, with values 9 and 15 respectively.\n",
    "\n",
    "### Example 2:\n",
    "\n",
    "* Input: root = [1]\n",
    "* Output: 0\n",
    " \n",
    "### Constraints:\n",
    "\n",
    "* The number of nodes in the tree is in the range [1, 1000].\n",
    "* -1000 <= Node.val <= 1000"
   ]
  },
  {
   "cell_type": "code",
   "execution_count": 2,
   "id": "b00c52ba",
   "metadata": {},
   "outputs": [],
   "source": [
    "class TreeNode:\n",
    "    def __init__(self, val=0, left=None, right=None):\n",
    "        self.val = val\n",
    "        self.left = left\n",
    "        self.right = right"
   ]
  },
  {
   "cell_type": "code",
   "execution_count": 3,
   "id": "576ee9e8",
   "metadata": {},
   "outputs": [],
   "source": [
    "def build_tree_from_list(nodes):\n",
    "    if not nodes:\n",
    "        return None\n",
    "    \n",
    "    root = TreeNode(nodes[0])\n",
    "    queue = [root]\n",
    "    i = 1\n",
    "    \n",
    "    while i < len(nodes):\n",
    "        current = queue.pop(0)\n",
    "        \n",
    "        if nodes[i] is not None:\n",
    "            current.left = TreeNode(nodes[i])\n",
    "            queue.append(current.left)\n",
    "        i += 1\n",
    "        \n",
    "        if i < len(nodes) and nodes[i] is not None:\n",
    "            current.right = TreeNode(nodes[i])\n",
    "            queue.append(current.right)\n",
    "        i += 1\n",
    "    \n",
    "    return root"
   ]
  },
  {
   "cell_type": "code",
   "execution_count": 14,
   "id": "0c970747",
   "metadata": {},
   "outputs": [
    {
     "data": {
      "text/plain": [
       "24"
      ]
     },
     "execution_count": 14,
     "metadata": {},
     "output_type": "execute_result"
    }
   ],
   "source": [
    "class Solution:\n",
    "    def sumOfLeftLeaves(self, root):\n",
    "        self.res = 0\n",
    "        def dfs(node, isLeft):\n",
    "            if not node:\n",
    "                return 0\n",
    "            if not node.left and not node.right:\n",
    "                if isLeft:\n",
    "                    return node.val\n",
    "                else:\n",
    "                    return 0\n",
    "            return dfs(node.left, True) + dfs(node.right, False)\n",
    "        return dfs(root, False)\n",
    "    \n",
    "root_values = [3,9,20,None,None,15,7]\n",
    "root = build_tree_from_list(root_values)\n",
    "solution = Solution()\n",
    "solution.sumOfLeftLeaves(root)"
   ]
  }
 ],
 "metadata": {
  "kernelspec": {
   "display_name": "Python 3 (ipykernel)",
   "language": "python",
   "name": "python3"
  },
  "language_info": {
   "codemirror_mode": {
    "name": "ipython",
    "version": 3
   },
   "file_extension": ".py",
   "mimetype": "text/x-python",
   "name": "python",
   "nbconvert_exporter": "python",
   "pygments_lexer": "ipython3",
   "version": "3.9.12"
  }
 },
 "nbformat": 4,
 "nbformat_minor": 5
}
