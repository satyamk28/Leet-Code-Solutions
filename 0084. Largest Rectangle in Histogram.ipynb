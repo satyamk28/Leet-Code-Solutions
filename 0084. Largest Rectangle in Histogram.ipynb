{
 "cells": [
  {
   "cell_type": "markdown",
   "id": "703c0cb9",
   "metadata": {},
   "source": [
    "### Given an array of integers heights representing the histogram's bar height where the width of each bar is 1, return the area of the largest rectangle in the histogram.\n",
    "\n",
    "### Example 1:\n",
    "\n",
    "* Input: heights = [2,1,5,6,2,3]\n",
    "* Output: 10\n",
    "* Explanation: The above is a histogram where width of each bar is 1. The largest rectangle is shown in the red area, which has an area = 10 units.\n",
    "\n",
    "### Example 2:\n",
    "\n",
    "* Input: heights = [2,4]\n",
    "* Output: 4\n",
    " \n",
    "### Constraints:\n",
    "\n",
    "* 1 <= heights.length <= 105\n",
    "* 0 <= heights[i] <= 104"
   ]
  },
  {
   "cell_type": "code",
   "execution_count": 2,
   "id": "e5ea3097",
   "metadata": {},
   "outputs": [
    {
     "data": {
      "text/plain": [
       "10"
      ]
     },
     "execution_count": 2,
     "metadata": {},
     "output_type": "execute_result"
    }
   ],
   "source": [
    "class Solution:\n",
    "    def largestRectangleArea(self, heights):\n",
    "        maxArea = 0\n",
    "        stack = []\n",
    "\n",
    "        for idx, height in enumerate(heights):\n",
    "            start = idx\n",
    "            while stack and stack[-1][1] > height:\n",
    "                i, h = stack.pop()\n",
    "                maxArea = max(maxArea, h * (idx - i))\n",
    "                start = i\n",
    "            stack.append((start, height))\n",
    "\n",
    "        for i, h in stack:\n",
    "            maxArea = max(maxArea, h * (len(heights) - i))\n",
    "        return maxArea\n",
    "sol = Solution()\n",
    "sol.largestRectangleArea([2,1,5,6,2,3])"
   ]
  }
 ],
 "metadata": {
  "kernelspec": {
   "display_name": "Python 3 (ipykernel)",
   "language": "python",
   "name": "python3"
  },
  "language_info": {
   "codemirror_mode": {
    "name": "ipython",
    "version": 3
   },
   "file_extension": ".py",
   "mimetype": "text/x-python",
   "name": "python",
   "nbconvert_exporter": "python",
   "pygments_lexer": "ipython3",
   "version": "3.9.12"
  }
 },
 "nbformat": 4,
 "nbformat_minor": 5
}
